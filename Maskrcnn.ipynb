{
  "cells": [
    {
      "cell_type": "markdown",
      "metadata": {
        "id": "view-in-github",
        "colab_type": "text"
      },
      "source": [
        "<a href=\"https://colab.research.google.com/github/aitiaowu/PyTorch-MaskRCNN/blob/master/Maskrcnn.ipynb\" target=\"_parent\"><img src=\"https://colab.research.google.com/assets/colab-badge.svg\" alt=\"Open In Colab\"/></a>"
      ]
    },
    {
      "cell_type": "code",
      "execution_count": 10,
      "metadata": {
        "id": "OWvEiR43DmMg"
      },
      "outputs": [],
      "source": [
        "import os\n",
        "import numpy as np\n",
        "from scipy.ndimage import distance_transform_edt\n",
        "from torch.utils.data import Dataset\n",
        "import torchvision\n",
        "from torchvision.datasets.coco import CocoDetection\n",
        "import torchvision.transforms as T\n",
        "import torch\n",
        "from PIL import Image\n",
        "from copy import copy\n",
        "from tqdm import tqdm\n",
        "import random\n",
        "import pdb\n",
        "import cv2\n",
        "import matplotlib.pyplot as plt\n",
        "import torch"
      ]
    },
    {
      "cell_type": "code",
      "execution_count": 11,
      "metadata": {
        "colab": {
          "base_uri": "https://localhost:8080/"
        },
        "id": "RIacK1yNDr46",
        "outputId": "f5792b90-2e7d-4bf0-d6ec-3569df2d7581"
      },
      "outputs": [
        {
          "output_type": "stream",
          "name": "stdout",
          "text": [
            "Mon Jun 12 11:05:32 2023       \n",
            "+-----------------------------------------------------------------------------+\n",
            "| NVIDIA-SMI 525.85.12    Driver Version: 525.85.12    CUDA Version: 12.0     |\n",
            "|-------------------------------+----------------------+----------------------+\n",
            "| GPU  Name        Persistence-M| Bus-Id        Disp.A | Volatile Uncorr. ECC |\n",
            "| Fan  Temp  Perf  Pwr:Usage/Cap|         Memory-Usage | GPU-Util  Compute M. |\n",
            "|                               |                      |               MIG M. |\n",
            "|===============================+======================+======================|\n",
            "|   0  Tesla T4            Off  | 00000000:00:04.0 Off |                    0 |\n",
            "| N/A   41C    P8     9W /  70W |      3MiB / 15360MiB |      0%      Default |\n",
            "|                               |                      |                  N/A |\n",
            "+-------------------------------+----------------------+----------------------+\n",
            "                                                                               \n",
            "+-----------------------------------------------------------------------------+\n",
            "| Processes:                                                                  |\n",
            "|  GPU   GI   CI        PID   Type   Process name                  GPU Memory |\n",
            "|        ID   ID                                                   Usage      |\n",
            "|=============================================================================|\n",
            "|  No running processes found                                                 |\n",
            "+-----------------------------------------------------------------------------+\n"
          ]
        }
      ],
      "source": [
        "!nvidia-smi"
      ]
    },
    {
      "cell_type": "code",
      "execution_count": 12,
      "metadata": {
        "colab": {
          "base_uri": "https://localhost:8080/"
        },
        "id": "BwgkmYCKDvUL",
        "outputId": "c7604a41-8600-4174-ddc9-6c4a6e7164c5"
      },
      "outputs": [
        {
          "output_type": "stream",
          "name": "stdout",
          "text": [
            "Drive already mounted at /content/drive; to attempt to forcibly remount, call drive.mount(\"/content/drive\", force_remount=True).\n"
          ]
        }
      ],
      "source": [
        "from google.colab import drive\n",
        "drive.mount('/content/drive')"
      ]
    },
    {
      "cell_type": "code",
      "execution_count": 13,
      "metadata": {
        "colab": {
          "base_uri": "https://localhost:8080/"
        },
        "id": "rXnGFzyLNIAh",
        "outputId": "da5a6818-72c5-41d1-b4eb-62a3f9760329"
      },
      "outputs": [
        {
          "output_type": "stream",
          "name": "stdout",
          "text": [
            "The code will run on GPU.\n"
          ]
        }
      ],
      "source": [
        "if torch.cuda.is_available():\n",
        "    print(\"The code will run on GPU.\")\n",
        "else:\n",
        "    print(\"The code will run on CPU. Go to Edit->Notebook Settings and choose GPU as the hardware accelerator\")\n",
        "device = torch.device('cuda' if torch.cuda.is_available() else 'cpu')"
      ]
    },
    {
      "cell_type": "code",
      "execution_count": 14,
      "metadata": {
        "id": "3O9El2bmD-bi",
        "colab": {
          "base_uri": "https://localhost:8080/"
        },
        "outputId": "b05a95e3-e5f5-415c-9905-abbb24d16691"
      },
      "outputs": [
        {
          "output_type": "stream",
          "name": "stdout",
          "text": [
            "mkdir: cannot create directory ‘/content/DATA’: File exists\n"
          ]
        }
      ],
      "source": [
        "!mkdir /content/DATA"
      ]
    },
    {
      "cell_type": "code",
      "execution_count": 15,
      "metadata": {
        "colab": {
          "base_uri": "https://localhost:8080/"
        },
        "id": "lthRhu8EDy5i",
        "outputId": "3f1f8e45-ee3a-4a02-ceca-c172be4bd4c8"
      },
      "outputs": [
        {
          "output_type": "stream",
          "name": "stdout",
          "text": [
            "/content/drive/MyDrive/Study/Thesis/data\n"
          ]
        }
      ],
      "source": [
        "%cd /content/drive/MyDrive/Study/Thesis/data"
      ]
    },
    {
      "cell_type": "code",
      "execution_count": 16,
      "metadata": {
        "id": "fTO3Yr9pD3c8",
        "colab": {
          "base_uri": "https://localhost:8080/"
        },
        "outputId": "5bb5abc9-1553-435b-aad6-dddd0a8e98d1"
      },
      "outputs": [
        {
          "output_type": "stream",
          "name": "stdout",
          "text": [
            "Archive:  /content/drive/MyDrive/Study/Thesis/data/dataset_v0.0.zip\n",
            "replace /content/DATA/images/frame-2022-09-29-14-08-08.774680.png? [y]es, [n]o, [A]ll, [N]one, [r]ename: None\n",
            "None\n"
          ]
        }
      ],
      "source": [
        "!unzip /content/drive/MyDrive/Study/Thesis/data/dataset_v0.0 -d /content/DATA"
      ]
    },
    {
      "cell_type": "markdown",
      "source": [
        "# Simple"
      ],
      "metadata": {
        "id": "F6OHMKKjGUJB"
      }
    },
    {
      "cell_type": "code",
      "source": [
        "%cd /content\n",
        "!git clone https://github.com/aitiaowu/PyTorch-MaskRCNN.git"
      ],
      "metadata": {
        "colab": {
          "base_uri": "https://localhost:8080/"
        },
        "id": "HHMLpsTnF4Zw",
        "outputId": "d0b43b73-7704-499e-be92-e6be7a3a9213"
      },
      "execution_count": 20,
      "outputs": [
        {
          "output_type": "stream",
          "name": "stdout",
          "text": [
            "/content\n",
            "Cloning into 'PyTorch-MaskRCNN'...\n",
            "remote: Enumerating objects: 775, done.\u001b[K\n",
            "remote: Counting objects: 100% (119/119), done.\u001b[K\n",
            "remote: Compressing objects: 100% (61/61), done.\u001b[K\n",
            "remote: Total 775 (delta 66), reused 74 (delta 58), pack-reused 656\u001b[K\n",
            "Receiving objects: 100% (775/775), 4.49 MiB | 19.83 MiB/s, done.\n",
            "Resolving deltas: 100% (426/426), done.\n"
          ]
        }
      ]
    },
    {
      "cell_type": "code",
      "source": [
        "%cd /content/PyTorch-MaskRCNN\n",
        "import pytorch_mask_rcnn as pmr\n",
        "from torch.utils.data.sampler import SubsetRandomSampler\n",
        "\n",
        "batch_size = 1\n",
        "dataset = pmr.datasets('coco', \"/content/DATA\", train=True)\n",
        "\n",
        "dataset_size = len(dataset)  # 总的数据集大小\n",
        "indices = list(range(dataset_size))  # 生成包含所有索引的列表\n",
        "random.shuffle(indices)  # 随机打乱索引列表\n",
        "\n",
        "# 设置训练集和验证集的比例\n",
        "train_ratio = 0.8  # 训练集占80%\n",
        "val_ratio = 0.1  # 验证集占10%，剩下的10%是测试集\n",
        "\n",
        "# 计算各个集合的大小\n",
        "train_size = int(train_ratio * dataset_size)\n",
        "val_size = int(val_ratio * dataset_size)\n",
        "\n",
        "# 切分索引列表\n",
        "train_indices = indices[:train_size]  # 前80%是训练集\n",
        "val_indices = indices[train_size:(train_size + val_size)]  # 接下来10%是验证集\n",
        "test_indices = indices[(train_size + val_size):]  # 剩下的是测试集\n",
        "train_sampler = SubsetRandomSampler(train_indices)\n",
        "val_sampler = SubsetRandomSampler(val_indices)\n",
        "test_sampler = SubsetRandomSampler(test_indices)\n",
        "\n",
        "# Create train/val/test dataloader\n",
        "train_loader = torch.utils.data.DataLoader(dataset, batch_size=batch_size, sampler=train_sampler, num_workers=min(4, batch_size),drop_last=True)\n",
        "val_loader = torch.utils.data.DataLoader(dataset, batch_size=batch_size, sampler=val_sampler, num_workers=min(4, batch_size),drop_last=True)\n",
        "test_loader = torch.utils.data.DataLoader(dataset, batch_size=batch_size, sampler=test_sampler, num_workers=min(4, batch_size), drop_last=True)"
      ],
      "metadata": {
        "colab": {
          "base_uri": "https://localhost:8080/"
        },
        "id": "qpJRq4NjMQG4",
        "outputId": "ca45246e-6d41-4b7a-f885-9e18d440a73c"
      },
      "execution_count": 43,
      "outputs": [
        {
          "output_type": "stream",
          "name": "stdout",
          "text": [
            "/content/PyTorch-MaskRCNN\n",
            "loading annotations into memory...\n",
            "Done (t=0.14s)\n",
            "creating index...\n",
            "index created!\n"
          ]
        }
      ]
    },
    {
      "cell_type": "code",
      "source": [
        "len(test_loader)"
      ],
      "metadata": {
        "id": "DIDi6Lk-WLJs",
        "outputId": "be571a36-0b5f-463f-bdd9-8b500163ee97",
        "colab": {
          "base_uri": "https://localhost:8080/"
        }
      },
      "execution_count": 35,
      "outputs": [
        {
          "output_type": "execute_result",
          "data": {
            "text/plain": [
              "959"
            ]
          },
          "metadata": {},
          "execution_count": 35
        }
      ]
    },
    {
      "cell_type": "code",
      "source": [
        "!python train.py --use-cuda --iters -1 --dataset coco"
      ],
      "metadata": {
        "colab": {
          "base_uri": "https://localhost:8080/"
        },
        "id": "INzB2a6KUfNU",
        "outputId": "8ef3ddee-3571-4266-8ff6-02cb65a18586"
      },
      "execution_count": null,
      "outputs": [
        {
          "output_type": "stream",
          "name": "stdout",
          "text": [
            "cuda: True\n",
            "available GPU(s): 1\n",
            "0: {'name': 'Tesla T4', 'capability': [7, 5], 'total_momory': 14.75, 'sm_count': 40}\n",
            "\n",
            "device: cuda\n",
            "loading annotations into memory...\n",
            "Done (t=0.24s)\n",
            "creating index...\n",
            "index created!\n",
            "Namespace(use_cuda=True, dataset='coco', data_dir='/content/DATA', ckpt_path='./maskrcnn_coco.pth', results='./maskrcnn_results.pth', seed=3, lr_steps=[6, 7], lr=0.00125, momentum=0.9, weight_decay=0.0001, epochs=5, iters=-1, print_freq=100, warmup_iters=7664)\n",
            "/usr/local/lib/python3.10/dist-packages/torchvision/models/_utils.py:208: UserWarning: The parameter 'pretrained' is deprecated since 0.13 and may be removed in the future, please use 'weights' instead.\n",
            "  warnings.warn(\n",
            "/usr/local/lib/python3.10/dist-packages/torchvision/models/_utils.py:223: UserWarning: Arguments other than a weight enum or `None` for 'weights' are deprecated since 0.13 and may be removed in the future. The current behavior is equivalent to passing `weights=ResNet50_Weights.IMAGENET1K_V1`. You can also use `weights=ResNet50_Weights.DEFAULT` to get the most up-to-date weights.\n",
            "  warnings.warn(msg)\n",
            "\n",
            "already trained: 0 epochs; to 5 epochs\n",
            "\n",
            "epoch: 1\n",
            "lr_epoch: 0.00125, factor: 1.00000\n",
            "Invalid segmentation detected: 2 1710\n",
            "/usr/local/lib/python3.10/dist-packages/torch/functional.py:504: UserWarning: torch.meshgrid: in an upcoming release, it will be required to pass the indexing argument. (Triggered internally at ../aten/src/ATen/native/TensorShape.cpp:3483.)\n",
            "  return _VF.meshgrid(tensors, **kwargs)  # type: ignore[attr-defined]\n",
            "class_logit_shape torch.Size([512, 2]) label_shape torch.Size([512])\n",
            "Invalid segmentation detected: 2 3994\n",
            "class_logit_shape torch.Size([512, 2]) label_shape torch.Size([512])\n",
            "Invalid segmentation detected: 2 1073\n",
            "class_logit_shape torch.Size([512, 2]) label_shape torch.Size([512])\n",
            "class_logit_shape torch.Size([512, 2]) label_shape torch.Size([512])\n",
            "class_logit_shape torch.Size([512, 2]) label_shape torch.Size([512])\n",
            "class_logit_shape torch.Size([512, 2]) label_shape torch.Size([512])\n",
            "class_logit_shape torch.Size([512, 2]) label_shape torch.Size([512])\n",
            "class_logit_shape torch.Size([512, 2]) label_shape torch.Size([512])\n",
            "class_logit_shape torch.Size([512, 2]) label_shape torch.Size([512])\n",
            "Invalid segmentation detected: 4 1131\n",
            "class_logit_shape torch.Size([512, 2]) label_shape torch.Size([512])\n",
            "Invalid segmentation detected: 3 6698\n",
            "class_logit_shape torch.Size([512, 2]) label_shape torch.Size([512])\n",
            "class_logit_shape torch.Size([512, 2]) label_shape torch.Size([512])\n",
            "Invalid segmentation detected: 2 2328\n",
            "class_logit_shape torch.Size([512, 2]) label_shape torch.Size([512])\n",
            "class_logit_shape torch.Size([512, 2]) label_shape torch.Size([512])\n",
            "class_logit_shape torch.Size([512, 2]) label_shape torch.Size([512])\n",
            "class_logit_shape torch.Size([512, 2]) label_shape torch.Size([512])\n",
            "class_logit_shape torch.Size([512, 2]) label_shape torch.Size([512])\n",
            "class_logit_shape torch.Size([512, 2]) label_shape torch.Size([512])\n",
            "class_logit_shape torch.Size([512, 2]) label_shape torch.Size([512])\n",
            "Invalid segmentation detected: 2 6613\n",
            "class_logit_shape torch.Size([512, 2]) label_shape torch.Size([512])\n",
            "class_logit_shape torch.Size([512, 2]) label_shape torch.Size([512])\n",
            "class_logit_shape torch.Size([512, 2]) label_shape torch.Size([512])\n",
            "class_logit_shape torch.Size([512, 2]) label_shape torch.Size([512])\n",
            "class_logit_shape torch.Size([512, 2]) label_shape torch.Size([512])\n",
            "class_logit_shape torch.Size([512, 2]) label_shape torch.Size([512])\n",
            "Invalid segmentation detected: 2 7954\n",
            "class_logit_shape torch.Size([512, 2]) label_shape torch.Size([512])\n",
            "class_logit_shape torch.Size([512, 2]) label_shape torch.Size([512])\n",
            "Invalid segmentation detected: 2 8237\n",
            "class_logit_shape torch.Size([512, 2]) label_shape torch.Size([512])\n",
            "Invalid segmentation detected: 2 6930\n",
            "class_logit_shape torch.Size([512, 2]) label_shape torch.Size([512])\n",
            "class_logit_shape torch.Size([512, 2]) label_shape torch.Size([512])\n",
            "class_logit_shape torch.Size([512, 2]) label_shape torch.Size([512])\n",
            "class_logit_shape torch.Size([512, 2]) label_shape torch.Size([512])\n",
            "class_logit_shape torch.Size([512, 2]) label_shape torch.Size([512])\n",
            "Invalid segmentation detected: 3 8844\n",
            "class_logit_shape torch.Size([512, 2]) label_shape torch.Size([512])\n",
            "class_logit_shape torch.Size([512, 2]) label_shape torch.Size([512])\n",
            "class_logit_shape torch.Size([512, 2]) label_shape torch.Size([512])\n",
            "class_logit_shape torch.Size([512, 2]) label_shape torch.Size([512])\n",
            "Invalid segmentation detected: 2 4815\n",
            "class_logit_shape torch.Size([512, 2]) label_shape torch.Size([512])\n",
            "class_logit_shape torch.Size([512, 2]) label_shape torch.Size([512])\n",
            "class_logit_shape torch.Size([512, 2]) label_shape torch.Size([512])\n",
            "Invalid segmentation detected: 2 6094\n",
            "class_logit_shape torch.Size([512, 2]) label_shape torch.Size([512])\n",
            "class_logit_shape torch.Size([512, 2]) label_shape torch.Size([512])\n",
            "Invalid segmentation detected: 2 8166\n"
          ]
        }
      ]
    },
    {
      "cell_type": "code",
      "source": [
        "!zip -r update2.zip /content/PyTorch-MaskRCNN"
      ],
      "metadata": {
        "id": "sY92K-SPnFev"
      },
      "execution_count": null,
      "outputs": []
    },
    {
      "cell_type": "code",
      "source": [
        "import os\n",
        "import numpy as np\n",
        "from scipy.ndimage import distance_transform_edt\n",
        "from torch.utils.data import Dataset\n",
        "import torchvision\n",
        "from torchvision.datasets.coco import CocoDetection\n",
        "import torchvision.transforms as T\n",
        "import torch\n",
        "from PIL import Image\n",
        "from copy import copy\n",
        "from tqdm import tqdm\n",
        "import random\n",
        "import pdb"
      ],
      "metadata": {
        "id": "1JwcQOuABmsG"
      },
      "execution_count": 85,
      "outputs": []
    },
    {
      "cell_type": "code",
      "source": [
        "class AgriRobotDataset(CocoDetection):\n",
        "    def __init__(self, root, annFile, transform=None, target_transform=None, transforms=None, to_tensor=False):\n",
        "        self.root = root\n",
        "        self.transforms = transforms\n",
        "        self.to_tensor = to_tensor\n",
        "        super(AgriRobotDataset, self).__init__(root, annFile, transform=transform, target_transform=target_transform, transforms=transforms)\n",
        "        \n",
        "    def __getitem__(self, index):\n",
        "        coco = self.coco\n",
        "        img_id = self.ids[index]        \n",
        "        ann_ids = coco.getAnnIds(imgIds=img_id)\n",
        "        coco_annotation = coco.loadAnns(ann_ids)\n",
        "        \n",
        "        path = coco.loadImgs(img_id)[0]['file_name']\n",
        "        image_name = os.path.join(self.root, path)\n",
        "        img = Image.open(image_name).convert('RGB')\n",
        "\n",
        "        boxes, labels, labels_names, areas, iscrowd, masks = [], [], [], [], [], []\n",
        "        for ann in coco_annotation:\n",
        "            xmin = ann['bbox'][0]\n",
        "            ymin = ann['bbox'][1]\n",
        "            xmax = xmin + ann['bbox'][2]\n",
        "            ymax = ymin + ann['bbox'][3]\n",
        "            boxes.append([xmin, ymin, xmax, ymax])\n",
        "            labels.append(ann['category_id'])\n",
        "            labels_names.append(coco.cats[ann['category_id']]['name'])\n",
        "            areas.append(ann['area'])\n",
        "            iscrowd.append(ann['iscrowd'])\n",
        "            masks.append(coco.annToMask(ann))\n",
        "        target = {\n",
        "                \"boxes\": np.array(boxes),\n",
        "                \"labels\": np.array(labels),\n",
        "                \"labels_names\": np.array(labels_names),\n",
        "                \"image_id\": np.array([img_id]),\n",
        "                \"image_name\": image_name,\n",
        "                \"area\": np.array(areas),\n",
        "                \"masks\": np.array(masks)\n",
        "                }\n",
        "        if self.to_tensor:\n",
        "                target[\"boxes\"] = torch.tensor(target[\"boxes\"], dtype=torch.float32),\n",
        "                target[\"image_id\"] = torch.tensor(target[\"image_id\"]),\n",
        "                target[\"area\"] = torch.tensor(target[\"area\"], dtype=torch.float32),\n",
        "                target[\"masks\"] = torch.tensor(target[\"masks\"], dtype=torch.uint8)\n",
        "\n",
        "        if self.transforms is not None:\n",
        "            img, target = self.transforms(img, target)\n",
        "           \n",
        "        return img, target"
      ],
      "metadata": {
        "id": "LOBZX2_xB72f"
      },
      "execution_count": 88,
      "outputs": []
    },
    {
      "cell_type": "code",
      "source": [
        "path = \"/content/DATA\"\n",
        "images_path = os.path.join(path, 'images')\n",
        "ann_file = os.path.join(path, 'annotations.json')\n",
        "dataset = AgriRobotDataset(root=images_path, annFile=ann_file, to_tensor=True)\n",
        "img, target = dataset[4640]"
      ],
      "metadata": {
        "id": "RFl7jHa5CguW",
        "outputId": "e639e987-7b02-4c0a-96fa-8eb3dea0fa7e",
        "colab": {
          "base_uri": "https://localhost:8080/"
        }
      },
      "execution_count": 102,
      "outputs": [
        {
          "output_type": "stream",
          "name": "stdout",
          "text": [
            "loading annotations into memory...\n",
            "Done (t=0.15s)\n",
            "creating index...\n",
            "index created!\n"
          ]
        }
      ]
    },
    {
      "cell_type": "code",
      "source": [
        "from matplotlib import pyplot as plt\n",
        "plt.imshow(target[\"masks\"].squeeze())"
      ],
      "metadata": {
        "id": "b_cEBbhtCrmN",
        "outputId": "76b46696-cece-4ba1-c86d-b31f295675cd",
        "colab": {
          "base_uri": "https://localhost:8080/",
          "height": 362
        }
      },
      "execution_count": 103,
      "outputs": [
        {
          "output_type": "execute_result",
          "data": {
            "text/plain": [
              "<matplotlib.image.AxesImage at 0x7f9730f55d50>"
            ]
          },
          "metadata": {},
          "execution_count": 103
        },
        {
          "output_type": "display_data",
          "data": {
            "text/plain": [
              "<Figure size 640x480 with 1 Axes>"
            ],
            "image/png": "[encoded data removed]"
          },
          "metadata": {}
        }
      ]
    },
    {
      "cell_type": "code",
      "source": [
        "target"
      ],
      "metadata": {
        "id": "SUIwvYJaCvn4",
        "outputId": "d0760a53-c399-4d1b-cb38-b850ea2ff454",
        "colab": {
          "base_uri": "https://localhost:8080/"
        }
      },
      "execution_count": 104,
      "outputs": [
        {
          "output_type": "execute_result",
          "data": {
            "text/plain": [
              "{'boxes': (tensor([[946.5000,  36.5000, 998.5000, 244.5000]]),),\n",
              " 'labels': array([1]),\n",
              " 'labels_names': array(['person'], dtype='<U6'),\n",
              " 'image_id': (tensor([4641]),),\n",
              " 'image_name': '/content/DATA/images/frame-2021-07-14-12-39-19.512012.png',\n",
              " 'area': (tensor([420.]),),\n",
              " 'masks': tensor([[[0, 0, 0,  ..., 0, 0, 0],\n",
              "          [0, 0, 0,  ..., 0, 0, 0],\n",
              "          [0, 0, 0,  ..., 0, 0, 0],\n",
              "          ...,\n",
              "          [0, 0, 0,  ..., 0, 0, 0],\n",
              "          [0, 0, 0,  ..., 0, 0, 0],\n",
              "          [0, 0, 0,  ..., 0, 0, 0]]], dtype=torch.uint8)}"
            ]
          },
          "metadata": {},
          "execution_count": 104
        }
      ]
    }
  ],
  "metadata": {
    "accelerator": "GPU",
    "colab": {
      "machine_shape": "hm",
      "provenance": [],
      "collapsed_sections": [
        "9z6w_aZsEiS0",
        "DFVdL6iz-R4T",
        "Mlxv3HO6Ey8x"
      ],
      "mount_file_id": "1Wp0_wr5oLI1m-spYBa1wClgz4TLH0-OT",
      "authorship_tag": "ABX9TyPEeHnV5/lw0zgKQWGxZ0GB",
      "include_colab_link": true
    },
    "gpuClass": "standard",
    "kernelspec": {
      "display_name": "Python 3",
      "name": "python3"
    },
    "language_info": {
      "name": "python"
    }
  },
  "nbformat": 4,
  "nbformat_minor": 0
}